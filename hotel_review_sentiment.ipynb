{
 "cells": [
  {
   "cell_type": "code",
   "execution_count": 1,
   "metadata": {
    "collapsed": true
   },
   "outputs": [],
   "source": [
    "import json\n",
    "import pandas as pd\n",
    "from afinn import Afinn\n",
    "import shelve\n",
    "import numpy as np\n",
    "import matplotlib.pyplot as plt\n",
    "%matplotlib inline\n"
   ]
  },
  {
   "cell_type": "markdown",
   "metadata": {},
   "source": [
    "Initiate Afinn Class\n",
    "-------------------\n",
    "Afinn is an expanded wordlist\n",
    "that includes scoring for emoticons and\n",
    "very offenise language"
   ]
  },
  {
   "cell_type": "code",
   "execution_count": 2,
   "metadata": {
    "collapsed": true
   },
   "outputs": [],
   "source": [
    "af = Afinn()"
   ]
  },
  {
   "cell_type": "markdown",
   "metadata": {},
   "source": [
    "Data Prep\n",
    "---------\n",
    "The review data is loaded then converted to list of lists"
   ]
  },
  {
   "cell_type": "code",
   "execution_count": 3,
   "metadata": {
    "collapsed": true
   },
   "outputs": [],
   "source": [
    "data = json.load(open('data.json', 'rb'))\n",
    "\n",
    "data_list = [(value['Author'], value['AuthorLocation'], value['ReviewID'],\n",
    "              value['Date'], value['Title'], value['Ratings'],\n",
    "              value['Content'], 0) for value in data['Reviews']]"
   ]
  },
  {
   "cell_type": "markdown",
   "metadata": {},
   "source": [
    "Create Dataframe\n",
    "----------------\n",
    "The list of list is converted to dataframe with appropriate headers"
   ]
  },
  {
   "cell_type": "code",
   "execution_count": 4,
   "metadata": {
    "collapsed": true
   },
   "outputs": [],
   "source": [
    "df = pd.DataFrame(data_list, columns=['Author', 'Location', 'Id', 'Date',\n",
    "                                      'Title', 'Ratings', 'Content', 'Score'])"
   ]
  },
  {
   "cell_type": "markdown",
   "metadata": {},
   "source": [
    "Calculate Score\n",
    "---------------\n",
    "Looping over the content, the afinn scoring function is applied "
   ]
  },
  {
   "cell_type": "code",
   "execution_count": 5,
   "metadata": {
    "collapsed": false
   },
   "outputs": [
    {
     "data": {
      "text/html": [
       "<div>\n",
       "<style>\n",
       "    .dataframe thead tr:only-child th {\n",
       "        text-align: right;\n",
       "    }\n",
       "\n",
       "    .dataframe thead th {\n",
       "        text-align: left;\n",
       "    }\n",
       "\n",
       "    .dataframe tbody tr th {\n",
       "        vertical-align: top;\n",
       "    }\n",
       "</style>\n",
       "<table border=\"1\" class=\"dataframe\">\n",
       "  <thead>\n",
       "    <tr style=\"text-align: right;\">\n",
       "      <th></th>\n",
       "      <th>Author</th>\n",
       "      <th>Location</th>\n",
       "      <th>Id</th>\n",
       "      <th>Date</th>\n",
       "      <th>Title</th>\n",
       "      <th>Ratings</th>\n",
       "      <th>Content</th>\n",
       "      <th>Score</th>\n",
       "    </tr>\n",
       "  </thead>\n",
       "  <tbody>\n",
       "    <tr>\n",
       "      <th>0</th>\n",
       "      <td>gowharr32</td>\n",
       "      <td>Boston</td>\n",
       "      <td>UR126946257</td>\n",
       "      <td>March 29, 2012</td>\n",
       "      <td>“Excellent Hotel &amp; Location”</td>\n",
       "      <td>{u'Service': u'4', u'Cleanliness': u'5', u'Ove...</td>\n",
       "      <td>We enjoyed the Best Western Pioneer Square. My...</td>\n",
       "      <td>29.0</td>\n",
       "    </tr>\n",
       "    <tr>\n",
       "      <th>1</th>\n",
       "      <td>Nancy W</td>\n",
       "      <td>Madison, Wisconsin</td>\n",
       "      <td>UR126795011</td>\n",
       "      <td>March 27, 2012</td>\n",
       "      <td>“Great Visit to Seattle!”</td>\n",
       "      <td>{u'Overall': u'5.0'}</td>\n",
       "      <td>Great visit to Seattle thanks to our stay at t...</td>\n",
       "      <td>20.0</td>\n",
       "    </tr>\n",
       "    <tr>\n",
       "      <th>2</th>\n",
       "      <td>Janet H</td>\n",
       "      <td>Ketchikan, Alaska</td>\n",
       "      <td>UR126715331</td>\n",
       "      <td>March 27, 2012</td>\n",
       "      <td>“Excellent in Everyway”</td>\n",
       "      <td>{u'Service': u'5', u'Cleanliness': u'5', u'Ove...</td>\n",
       "      <td>Great Location,short walk from Amtrak station,...</td>\n",
       "      <td>21.0</td>\n",
       "    </tr>\n",
       "    <tr>\n",
       "      <th>3</th>\n",
       "      <td>TimothyFlorida</td>\n",
       "      <td>Florida</td>\n",
       "      <td>UR126585393</td>\n",
       "      <td>March 24, 2012</td>\n",
       "      <td>“Great hotel, location &amp; price.”</td>\n",
       "      <td>{u'Service': u'5', u'Cleanliness': u'5', u'Ove...</td>\n",
       "      <td>Accommodation in Seattle can be expensive. Thi...</td>\n",
       "      <td>10.0</td>\n",
       "    </tr>\n",
       "    <tr>\n",
       "      <th>4</th>\n",
       "      <td>KarenArmstrong_BC</td>\n",
       "      <td>Armstrong, BC</td>\n",
       "      <td>UR126067021</td>\n",
       "      <td>March 13, 2012</td>\n",
       "      <td>“Cool place”</td>\n",
       "      <td>{u'Service': u'3', u'Cleanliness': u'4', u'Ove...</td>\n",
       "      <td>Very cool old building in a great location. Ch...</td>\n",
       "      <td>-3.0</td>\n",
       "    </tr>\n",
       "  </tbody>\n",
       "</table>\n",
       "</div>"
      ],
      "text/plain": [
       "              Author            Location           Id            Date  \\\n",
       "0          gowharr32              Boston  UR126946257  March 29, 2012   \n",
       "1            Nancy W  Madison, Wisconsin  UR126795011  March 27, 2012   \n",
       "2            Janet H   Ketchikan, Alaska  UR126715331  March 27, 2012   \n",
       "3     TimothyFlorida             Florida  UR126585393  March 24, 2012   \n",
       "4  KarenArmstrong_BC       Armstrong, BC  UR126067021  March 13, 2012   \n",
       "\n",
       "                              Title  \\\n",
       "0      “Excellent Hotel & Location”   \n",
       "1         “Great Visit to Seattle!”   \n",
       "2           “Excellent in Everyway”   \n",
       "3  “Great hotel, location & price.”   \n",
       "4                      “Cool place”   \n",
       "\n",
       "                                             Ratings  \\\n",
       "0  {u'Service': u'4', u'Cleanliness': u'5', u'Ove...   \n",
       "1                               {u'Overall': u'5.0'}   \n",
       "2  {u'Service': u'5', u'Cleanliness': u'5', u'Ove...   \n",
       "3  {u'Service': u'5', u'Cleanliness': u'5', u'Ove...   \n",
       "4  {u'Service': u'3', u'Cleanliness': u'4', u'Ove...   \n",
       "\n",
       "                                             Content  Score  \n",
       "0  We enjoyed the Best Western Pioneer Square. My...   29.0  \n",
       "1  Great visit to Seattle thanks to our stay at t...   20.0  \n",
       "2  Great Location,short walk from Amtrak station,...   21.0  \n",
       "3  Accommodation in Seattle can be expensive. Thi...   10.0  \n",
       "4  Very cool old building in a great location. Ch...   -3.0  "
      ]
     },
     "execution_count": 5,
     "metadata": {},
     "output_type": "execute_result"
    }
   ],
   "source": [
    "df['Score'] = [af.score(content) for content in df['Content']]\n",
    "df.head()"
   ]
  },
  {
   "cell_type": "markdown",
   "metadata": {},
   "source": [
    "Descriptive Statistics\n",
    "----------------------\n",
    "The mean of the scores suggests that the overall view of the hotel by customers is positive"
   ]
  },
  {
   "cell_type": "code",
   "execution_count": 6,
   "metadata": {
    "collapsed": false
   },
   "outputs": [
    {
     "data": {
      "text/plain": [
       "count    233.000000\n",
       "mean      16.484979\n",
       "std       11.169578\n",
       "min       -4.000000\n",
       "25%        9.000000\n",
       "50%       14.000000\n",
       "75%       22.000000\n",
       "max       66.000000\n",
       "Name: Score, dtype: float64"
      ]
     },
     "execution_count": 6,
     "metadata": {},
     "output_type": "execute_result"
    }
   ],
   "source": [
    "df['Score'].describe()"
   ]
  },
  {
   "cell_type": "markdown",
   "metadata": {},
   "source": [
    "Save dataframe to shelve\n",
    "------------------------"
   ]
  },
  {
   "cell_type": "code",
   "execution_count": 7,
   "metadata": {
    "collapsed": true
   },
   "outputs": [],
   "source": [
    "s = shelve.open('review_shelf.db', writeback=True)\n",
    "try:\n",
    "    s['reviews'] = df\n",
    "finally:\n",
    "    s.close()"
   ]
  },
  {
   "cell_type": "markdown",
   "metadata": {},
   "source": [
    "Plot of Score Distribution\n",
    "--------------------------"
   ]
  },
  {
   "cell_type": "code",
   "execution_count": 8,
   "metadata": {
    "collapsed": false
   },
   "outputs": [
    {
     "data": {
      "text/plain": [
       "<matplotlib.figure.Figure at 0x1234de48>"
      ]
     },
     "metadata": {},
     "output_type": "display_data"
    },
    {
     "data": {
      "image/png": "[encoded data removed]",
      "text/plain": [
       "<matplotlib.figure.Figure at 0x11bca898>"
      ]
     },
     "metadata": {},
     "output_type": "display_data"
    }
   ],
   "source": [
    "plt.figure()\n",
    "df.plot.hist(bins=20)\n",
    "plt.title('Sentiment Score Distribution')\n",
    "plt.show()"
   ]
  },
  {
   "cell_type": "markdown",
   "metadata": {},
   "source": [
    "What should your sentiment scores be compared to?\n",
    "-------------------------------------------------\n",
    "I think more data collection would be needed, ie. Competitor Research.\n",
    "You need Reviewer comments from similar sized hotels that are in\n",
    "the same region and have the same star-level, and are in the same price range."
   ]
  }
 ],
 "metadata": {
  "kernelspec": {
   "display_name": "Python 2",
   "language": "python",
   "name": "python2"
  },
  "language_info": {
   "codemirror_mode": {
    "name": "ipython",
    "version": 2
   },
   "file_extension": ".py",
   "mimetype": "text/x-python",
   "name": "python",
   "nbconvert_exporter": "python",
   "pygments_lexer": "ipython2",
   "version": "2.7.12"
  }
 },
 "nbformat": 4,
 "nbformat_minor": 0
}
